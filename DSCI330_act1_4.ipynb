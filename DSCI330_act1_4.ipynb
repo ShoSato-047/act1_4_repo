{
  "nbformat": 4,
  "nbformat_minor": 0,
  "metadata": {
    "colab": {
      "provenance": []
    },
    "kernelspec": {
      "name": "python3",
      "display_name": "Python 3"
    },
    "language_info": {
      "name": "python"
    }
  },
  "cells": [
    {
      "cell_type": "code",
      "source": [
        "# 1.1\n",
        "triangle_area = lambda b, h: 0.5*b*h"
      ],
      "metadata": {
        "id": "lpwn032teIVN"
      },
      "execution_count": 3,
      "outputs": []
    },
    {
      "cell_type": "code",
      "source": [
        "triangle_area(1,2)"
      ],
      "metadata": {
        "colab": {
          "base_uri": "https://localhost:8080/"
        },
        "id": "cbNZJeUPe5El",
        "outputId": "a066fb97-5048-402c-eb27-008b96795fb5"
      },
      "execution_count": 4,
      "outputs": [
        {
          "output_type": "execute_result",
          "data": {
            "text/plain": [
              "1.0"
            ]
          },
          "metadata": {},
          "execution_count": 4
        }
      ]
    },
    {
      "cell_type": "code",
      "source": [
        "# 1.3\n",
        "# Test function\n",
        "def test_triangle_area():\n",
        "    assert triangle_area(1,2) == 1\n",
        "    assert triangle_area(3,4) == 6\n",
        "    assert triangle_area(5,6) == 15\n",
        "test_triangle_area() # Silence is golden!"
      ],
      "metadata": {
        "id": "tzVRYN2XfDXv"
      },
      "execution_count": 16,
      "outputs": []
    },
    {
      "cell_type": "code",
      "source": [
        "# 1.4\n",
        "def triangle_area():\n",
        "    \"\"\" compute the area of a right triangle with base b and height h \"\"\"\n",
        "    output = 0.5*b*h\n",
        "    return output"
      ],
      "metadata": {
        "id": "YCo4x2Dphw8D"
      },
      "execution_count": 22,
      "outputs": []
    },
    {
      "cell_type": "code",
      "source": [
        "# 1.5\n",
        "def new_triangle_area(b, h):\n",
        "    \"\"\" compute the area of a right triangle with base b and height h \"\"\"\n",
        "    output = 0.5*b*h\n",
        "    return output"
      ],
      "metadata": {
        "id": "T_v8thyReKhx"
      },
      "execution_count": 23,
      "outputs": []
    },
    {
      "cell_type": "code",
      "source": [
        "# 1.6 a\n",
        "# Test function\n",
        "def test_new_triangle_area():\n",
        "    assert triangle_area(1,2) == 1\n",
        "    assert triangle_area(3,4) == 6\n",
        "    assert triangle_area(5,6) == 15\n",
        "test_triangle_area() # Silence is golden!"
      ],
      "metadata": {
        "id": "ZmxLw6b7hgZJ"
      },
      "execution_count": 18,
      "outputs": []
    },
    {
      "cell_type": "code",
      "source": [
        "# 1.6 b\n",
        "help(new_triangle_area)"
      ],
      "metadata": {
        "colab": {
          "base_uri": "https://localhost:8080/"
        },
        "id": "eGPqQNS9e9WV",
        "outputId": "530af5c2-d1f4-490f-9bd8-0b1f09ae74c8"
      },
      "execution_count": 20,
      "outputs": [
        {
          "output_type": "stream",
          "name": "stdout",
          "text": [
            "Help on function new_triangle_area in module __main__:\n",
            "\n",
            "new_triangle_area(b, h)\n",
            "    compute the area of a right triangle with base b and height h\n",
            "\n"
          ]
        }
      ]
    },
    {
      "cell_type": "code",
      "source": [],
      "metadata": {
        "id": "PMKP59LMgEBh"
      },
      "execution_count": null,
      "outputs": []
    }
  ]
}